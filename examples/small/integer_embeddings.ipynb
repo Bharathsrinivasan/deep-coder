{
  "nbformat": 4,
  "nbformat_minor": 0,
  "metadata": {
    "colab": {
      "name": "inspect-model (length=1)",
      "version": "0.3.2",
      "provenance": [],
      "collapsed_sections": [],
      "include_colab_link": true
    },
    "kernelspec": {
      "name": "python3",
      "display_name": "Python 3"
    }
  },
  "cells": [
    {
      "cell_type": "markdown",
      "metadata": {
        "id": "view-in-github",
        "colab_type": "text"
      },
      "source": [
        "<a href=\"https://colab.research.google.com/github/HiroakiMikami/deep-coder/blob/feature%2F27-colab/examples/small/integer_embeddings.ipynb\" target=\"_parent\"><img src=\"https://colab.research.google.com/assets/colab-badge.svg\" alt=\"Open In Colab\"/></a>"
      ]
    },
    {
      "cell_type": "markdown",
      "metadata": {
        "id": "yje9hqtcUQ_f",
        "colab_type": "text"
      },
      "source": [
        "### Initialization\n",
        "* Check whether the runtime is host or local.\n",
        "* Mount Google Drive when using the host runtime."
      ]
    },
    {
      "cell_type": "code",
      "metadata": {
        "id": "FwqGy_GyUQnw",
        "colab_type": "code",
        "outputId": "94caa946-2481-461d-842d-07cf43c9857b",
        "colab": {
          "base_uri": "https://localhost:8080/",
          "height": 34
        }
      },
      "source": [
        "try:\n",
        "  from google.colab import drive\n",
        "  drive.mount('/gdrive')\n",
        "  runtime = \"host\"\n",
        "except:\n",
        "  runtime = \"local\""
      ],
      "execution_count": 8,
      "outputs": [
        {
          "output_type": "stream",
          "text": [
            "Drive already mounted at /gdrive; to attempt to forcibly remount, call drive.mount(\"/gdrive\", force_remount=True).\n"
          ],
          "name": "stdout"
        }
      ]
    },
    {
      "cell_type": "markdown",
      "metadata": {
        "id": "_S457sT6QMUr",
        "colab_type": "text"
      },
      "source": [
        "### Parameters"
      ]
    },
    {
      "cell_type": "code",
      "metadata": {
        "id": "2LYvG4iCQUwh",
        "colab_type": "code",
        "colab": {}
      },
      "source": [
        "#@title Parameters\n",
        "#@markdown |Name            |Description|\n",
        "#@markdown |:---            |:---|\n",
        "#@markdown |`seed`|The random seed|\n",
        "seed = 3984 #@param {type: \"number\"}\n",
        "\n",
        "#@markdown ### `deep-coder` Repositories\n",
        "#@markdown |Name            |Description|\n",
        "#@markdown |:---            |:---|\n",
        "#@markdown |`repository_url`|The URL of `deep-coder` git repository (enabled only in the host runtime)|\n",
        "#@markdown |`branch_name`   |The branch name (enabled only in the host runtime)|\n",
        "repository_url = \"https://github.com/HiroakiMikami/deep-coder\" #@param {type: \"string\"}\n",
        "branch_name = \"master\" #@param {type: \"string\"}\n",
        "\n",
        "#@markdown ### Filepathes\n",
        "#@markdown |Name              |Description|\n",
        "#@markdown |:---              |:---|\n",
        "#@markdown |`model_shape_path`|The file path of the model shape.|\n",
        "#@markdown |`model_path`      |The file path of the model parameters.|\n",
        "model_shape_path = \"/gdrive/My Drive/DeepCoder/out/length_1/model-shape.pickle\" #@param {type: \"string\"}\n",
        "model_path = \"/gdrive/My Drive/DeepCoder/out/length_1/model.npz\" #@param {type: \"string\"}\n",
        "\n"
      ],
      "execution_count": 0,
      "outputs": []
    },
    {
      "cell_type": "markdown",
      "metadata": {
        "id": "_BembldCdOO1",
        "colab_type": "text"
      },
      "source": [
        "### Setup\n",
        "* Fix the random seed\n",
        "* Download the codebase (when using the host runtime)\n",
        "  1. Clone git repository and move to the specified branch\n",
        "  2. Initialize submodule\n",
        "  3. Build the `search` tool\n",
        "  4. Install chainer and cupy"
      ]
    },
    {
      "cell_type": "code",
      "metadata": {
        "id": "GwjlAkY1fR5j",
        "colab_type": "code",
        "colab": {}
      },
      "source": [
        "import numpy as np\n",
        "import random\n",
        "\n",
        "SEED_MAX = 2**32 - 1\n",
        "\n",
        "root_rng = np.random.RandomState(seed)\n",
        "random.seed(root_rng.randint(SEED_MAX))\n",
        "np.random.seed(root_rng.randint(SEED_MAX))"
      ],
      "execution_count": 0,
      "outputs": []
    },
    {
      "cell_type": "code",
      "metadata": {
        "id": "FIZJmuz8QFn_",
        "colab_type": "code",
        "outputId": "76f6f907-1964-4d04-8334-28d19c7d31e0",
        "colab": {
          "base_uri": "https://localhost:8080/",
          "height": 731
        }
      },
      "source": [
        "if runtime == \"host\":\n",
        "  %cd /content\n",
        "  !rm -rf deep-coder\n",
        "  ![ ! -e deep-coder ] && git clone $repository_url deep-coder\n",
        "  %cd deep-coder\n",
        "  !git checkout origin/$branch_name\n",
        "  !git submodule init\n",
        "  !git submodule update\n",
        "  !make -C DeepCoder_Utils/enumerative-search -j `nproc`\n",
        "  !curl https://colab.chainer.org/install | sh -"
      ],
      "execution_count": 4,
      "outputs": [
        {
          "output_type": "stream",
          "text": [
            "/content\n",
            "Cloning into 'deep-coder'...\n",
            "remote: Enumerating objects: 119, done.\u001b[K\n",
            "remote: Counting objects: 100% (119/119), done.\u001b[K\n",
            "remote: Compressing objects: 100% (84/84), done.\u001b[K\n",
            "remote: Total 1243 (delta 71), reused 64 (delta 34), pack-reused 1124\u001b[K\n",
            "Receiving objects: 100% (1243/1243), 17.81 MiB | 15.02 MiB/s, done.\n",
            "Resolving deltas: 100% (749/749), done.\n",
            "/content/deep-coder\n",
            "Note: checking out 'origin/master'.\n",
            "\n",
            "You are in 'detached HEAD' state. You can look around, make experimental\n",
            "changes and commit them, and you can discard any commits you make in this\n",
            "state without impacting any branches by performing another checkout.\n",
            "\n",
            "If you want to create a new branch to retain commits you create, you may\n",
            "do so (now or later) by using -b with the checkout command again. Example:\n",
            "\n",
            "  git checkout -b <new-branch-name>\n",
            "\n",
            "HEAD is now at cbf6f06 Add example script to generate the dataset\n",
            "Submodule 'DeepCoder_Utils' (https://github.com/HiroakiMikami/DeepCoder-Utils.git) registered for path 'DeepCoder_Utils'\n",
            "Cloning into '/content/deep-coder/DeepCoder_Utils'...\n",
            "Submodule path 'DeepCoder_Utils': checked out '10330caf96b2f6bf354c512010b356a7b0d1dba5'\n",
            "make: Entering directory '/content/deep-coder/DeepCoder_Utils/enumerative-search'\n",
            "g++ -std=c++11 -O3   successor.cc -c -o successor.o\n",
            "g++ -std=c++11 -O3   ops.cc -c -o ops.o\n",
            "g++ -std=c++11 -O3   program_state.cc -c -o program_state.o\n",
            "g++ -std=c++11 -O3   main.cc -c -o main.o\n",
            "g++ -std=c++11 -O3   datum.cc -c -o datum.o\n",
            "g++ -std=c++11 -O3   depth_first_search.cc -c -o depth_first_search.o\n",
            "g++ -std=c++11 -O3   utils.cc -c -o utils.o\n",
            "g++ -std=c++11 -O3   io_set.cc -c -o io_set.o\n",
            "g++ -std=c++11 -O3  successor.o ops.o program_state.o main.o datum.o depth_first_search.o utils.o io_set.o -o search\n",
            "make: Leaving directory '/content/deep-coder/DeepCoder_Utils/enumerative-search'\n",
            "  % Total    % Received % Xferd  Average Speed   Time    Time     Time  Current\n",
            "                                 Dload  Upload   Total   Spent    Left  Speed\n",
            "100  1580  100  1580    0     0  12950      0 --:--:-- --:--:-- --:--:-- 12950\n",
            "********************************************************************************\n",
            "GPU is not enabled!\n",
            "Open \"Runtime\" > \"Change runtime type\" and set \"Hardware accelerator\" to \"GPU\".\n",
            "********************************************************************************\n"
          ],
          "name": "stdout"
        }
      ]
    },
    {
      "cell_type": "markdown",
      "metadata": {
        "id": "Oz7sdzxUi70b",
        "colab_type": "text"
      },
      "source": [
        "### Load Model\n",
        "* Load model"
      ]
    },
    {
      "cell_type": "code",
      "metadata": {
        "id": "h7kdglcUjDTQ",
        "colab_type": "code",
        "colab": {}
      },
      "source": [
        "import pickle\n",
        "import chainer as ch\n",
        "from src.model import ModelShapeParameters, Predictor\n",
        "\n",
        "# Load model\n",
        "with open(model_shape_path, \"rb\") as f:\n",
        "    model_shape: ModelShapeParameters = pickle.load(f)\n",
        "predictor = Predictor(model_shape)\n",
        "ch.serializers.load_npz(model_path, predictor)"
      ],
      "execution_count": 0,
      "outputs": []
    },
    {
      "cell_type": "markdown",
      "metadata": {
        "id": "kr3F1N-V5ZCi",
        "colab_type": "text"
      },
      "source": [
        "### Visualize Model\n",
        "* Show integer embeddings"
      ]
    },
    {
      "cell_type": "code",
      "metadata": {
        "id": "q6Ik8J8MAcbv",
        "colab_type": "code",
        "colab": {}
      },
      "source": [
        "#@markdown ### Visualization Parameters\n",
        "#@markdown |Name    |Description|\n",
        "#@markdown |:---    |:---|\n",
        "#@markdown |`width` |The width of the matplotlib plot|\n",
        "#@markdown |`height`|The height of the matplotlib plot|\n",
        "#@markdown ---\n",
        "width = 12 #@param {type: \"slider\", min: 1, max: 48, step: 1}\n",
        "height = 12 #@param {type: \"slider\", min: 1, max: 48, step: 1}\n"
      ],
      "execution_count": 0,
      "outputs": []
    },
    {
      "cell_type": "code",
      "metadata": {
        "id": "TdtM61G15xJx",
        "colab_type": "code",
        "outputId": "9784aa86-d260-4cc6-be8d-71641729ba05",
        "colab": {
          "base_uri": "https://localhost:8080/",
          "height": 721
        }
      },
      "source": [
        "import matplotlib.pyplot as plt\n",
        "\n",
        "plt.figure(figsize=(width, height))\n",
        "\n",
        "embed = list(predictor.children())[0]._embed_integer\n",
        "axis_0, axis_1 = np.random.choice(model_shape.n_embed, 2, replace=False)\n",
        "for i in range(-model_shape.dataset_metadata.value_range, model_shape.dataset_metadata.value_range):\n",
        "    e = embed(np.array([i + model_shape.dataset_metadata.value_range]))\n",
        "    x = e.array[0, axis_0]\n",
        "    y = e.array[0, axis_1]\n",
        "\n",
        "    if i == 0:\n",
        "        color = \"b\"\n",
        "    elif i > 0:\n",
        "        color = \"g\"\n",
        "    else:\n",
        "        color = \"r\"\n",
        "\n",
        "    if i % 2 == 0:\n",
        "        shape = \"s\"\n",
        "    else:\n",
        "        shape = \"^\"\n",
        "\n",
        "    plt.plot(x, y, \"{}{}\".format(color, shape))\n",
        "    if abs(i) < 10 or abs(i) > 253:\n",
        "        plt.annotate(\"{}\".format(i), xy=(x, y))\n",
        "\n",
        "e = embed(np.array([2 * model_shape.dataset_metadata.value_range]))\n",
        "x = e.array[0, axis_0]\n",
        "y = e.array[0, axis_1]\n",
        "plt.plot(x, y, \"x\")\n",
        "plt.annotate(\"Null\", xy=(x, y))\n"
      ],
      "execution_count": 7,
      "outputs": [
        {
          "output_type": "execute_result",
          "data": {
            "text/plain": [
              "Text(0.0042851665, -1.9128416, 'Null')"
            ]
          },
          "metadata": {
            "tags": []
          },
          "execution_count": 7
        },
        {
          "output_type": "display_data",
          "data": {
            "image/png": "[encoded data removed]",
            "text/plain": [
              "<Figure size 864x864 with 1 Axes>"
            ]
          },
          "metadata": {
            "tags": []
          }
        }
      ]
    }
  ]
}