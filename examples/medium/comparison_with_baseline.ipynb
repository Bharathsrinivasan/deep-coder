{
  "nbformat": 4,
  "nbformat_minor": 0,
  "metadata": {
    "colab": {
      "name": "compare baseline and deep-coder",
      "version": "0.3.2",
      "provenance": [],
      "collapsed_sections": []
    },
    "kernelspec": {
      "name": "python3",
      "display_name": "Python 3"
    }
  },
  "cells": [
    {
      "cell_type": "markdown",
      "metadata": {
        "id": "yje9hqtcUQ_f",
        "colab_type": "text"
      },
      "source": [
        "### Initialization\n",
        "* Check whether the runtime is host or local.\n",
        "* Mount Google Drive when using the host runtime."
      ]
    },
    {
      "cell_type": "code",
      "metadata": {
        "id": "FwqGy_GyUQnw",
        "colab_type": "code",
        "outputId": "ea25b3fe-285f-48ee-b046-9abc26868bd1",
        "colab": {
          "base_uri": "https://localhost:8080/",
          "height": 34
        }
      },
      "source": [
        "try:\n",
        "  from google.colab import drive\n",
        "  drive.mount('/gdrive')\n",
        "  runtime = \"host\"\n",
        "except:\n",
        "  runtime = \"local\""
      ],
      "execution_count": 1,
      "outputs": [
        {
          "output_type": "stream",
          "text": [
            "Drive already mounted at /gdrive; to attempt to forcibly remount, call drive.mount(\"/gdrive\", force_remount=True).\n"
          ],
          "name": "stdout"
        }
      ]
    },
    {
      "cell_type": "markdown",
      "metadata": {
        "id": "_S457sT6QMUr",
        "colab_type": "text"
      },
      "source": [
        "### Parameters"
      ]
    },
    {
      "cell_type": "code",
      "metadata": {
        "id": "2LYvG4iCQUwh",
        "colab_type": "code",
        "colab": {}
      },
      "source": [
        "#@title Parameters\n",
        "#@markdown |Name            |Description|\n",
        "#@markdown |:---            |:---|\n",
        "#@markdown |`seed`|The random seed|\n",
        "seed = 3984 #@param {type: \"number\"}\n",
        "\n",
        "#@markdown ### `deep-coder` Repositories\n",
        "#@markdown |Name            |Description|\n",
        "#@markdown |:---            |:---|\n",
        "#@markdown |`repository_url`|The URL of `deep-coder` git repository (enabled only in the host runtime)|\n",
        "#@markdown |`branch_name`   |The branch name (enabled only in the host runtime)|\n",
        "repository_url = \"https://github.com/HiroakiMikami/deep-coder\" #@param {type: \"string\"}\n",
        "branch_name = \"master\" #@param {type: \"string\"}\n",
        "\n",
        "#@markdown ### Filepathes\n",
        "#@markdown |Name                |Description|\n",
        "#@markdown |:---                |:---|\n",
        "#@markdown |`valid_dataset_path`|The file path of the validation dataset|\n",
        "#@markdown |`result_pathes`     |The comma separated list of the validation results|\n",
        "valid_dataset_path = \"/gdrive/My Drive/DeepCoder/dataset/length_3/valid.pickle\" #@param {type: \"string\"}\n",
        "result_pathes = \"/gdrive/My Drive/DeepCoder/out/length_3/baseline/result.pickle,/gdrive/My Drive/DeepCoder/out/length_3/deep-coder/result.pickle\" #@param {type: \"string\"}\n",
        "result_path_list = list(result_pathes.split(\",\"))"
      ],
      "execution_count": 0,
      "outputs": []
    },
    {
      "cell_type": "markdown",
      "metadata": {
        "id": "_BembldCdOO1",
        "colab_type": "text"
      },
      "source": [
        "### Setup\n",
        "* Fix the random seed\n",
        "* Download the codebase (when using the host runtime)\n",
        "  1. Clone git repository and move to the specified branch\n",
        "  2. Initialize submodule\n",
        "  3. Build the `search` tool\n",
        "  4. Install chainer and cupy"
      ]
    },
    {
      "cell_type": "code",
      "metadata": {
        "id": "GwjlAkY1fR5j",
        "colab_type": "code",
        "colab": {}
      },
      "source": [
        "import numpy as np\n",
        "import random\n",
        "\n",
        "SEED_MAX = 2**32 - 1\n",
        "\n",
        "root_rng = np.random.RandomState(seed)\n",
        "random.seed(root_rng.randint(SEED_MAX))\n",
        "np.random.seed(root_rng.randint(SEED_MAX))"
      ],
      "execution_count": 0,
      "outputs": []
    },
    {
      "cell_type": "code",
      "metadata": {
        "id": "FIZJmuz8QFn_",
        "colab_type": "code",
        "outputId": "f97bacfa-74aa-4b4d-98ba-cd5284971434",
        "colab": {
          "base_uri": "https://localhost:8080/",
          "height": 731
        }
      },
      "source": [
        "if runtime == \"host\":\n",
        "  %cd /content\n",
        "  !rm -rf deep-coder\n",
        "  ![ ! -e deep-coder ] && git clone $repository_url deep-coder\n",
        "  %cd deep-coder\n",
        "  !git checkout origin/$branch_name\n",
        "  !git submodule init\n",
        "  !git submodule update\n",
        "  !make -C DeepCoder_Utils/enumerative-search -j `nproc`\n",
        "  !curl https://colab.chainer.org/install | sh -"
      ],
      "execution_count": 4,
      "outputs": [
        {
          "output_type": "stream",
          "text": [
            "/content\n",
            "Cloning into 'deep-coder'...\n",
            "remote: Enumerating objects: 159, done.\u001b[K\n",
            "remote: Counting objects: 100% (159/159), done.\u001b[K\n",
            "remote: Compressing objects: 100% (124/124), done.\u001b[K\n",
            "remote: Total 1283 (delta 92), reused 64 (delta 34), pack-reused 1124\u001b[K\n",
            "Receiving objects: 100% (1283/1283), 17.84 MiB | 15.03 MiB/s, done.\n",
            "Resolving deltas: 100% (770/770), done.\n",
            "/content/deep-coder\n",
            "Note: checking out 'origin/master'.\n",
            "\n",
            "You are in 'detached HEAD' state. You can look around, make experimental\n",
            "changes and commit them, and you can discard any commits you make in this\n",
            "state without impacting any branches by performing another checkout.\n",
            "\n",
            "If you want to create a new branch to retain commits you create, you may\n",
            "do so (now or later) by using -b with the checkout command again. Example:\n",
            "\n",
            "  git checkout -b <new-branch-name>\n",
            "\n",
            "HEAD is now at cbf6f06 Add example script to generate the dataset\n",
            "Submodule 'DeepCoder_Utils' (https://github.com/HiroakiMikami/DeepCoder-Utils.git) registered for path 'DeepCoder_Utils'\n",
            "Cloning into '/content/deep-coder/DeepCoder_Utils'...\n",
            "Submodule path 'DeepCoder_Utils': checked out '10330caf96b2f6bf354c512010b356a7b0d1dba5'\n",
            "make: Entering directory '/content/deep-coder/DeepCoder_Utils/enumerative-search'\n",
            "g++ -std=c++11 -O3   successor.cc -c -o successor.o\n",
            "g++ -std=c++11 -O3   ops.cc -c -o ops.o\n",
            "g++ -std=c++11 -O3   program_state.cc -c -o program_state.o\n",
            "g++ -std=c++11 -O3   main.cc -c -o main.o\n",
            "g++ -std=c++11 -O3   datum.cc -c -o datum.o\n",
            "g++ -std=c++11 -O3   depth_first_search.cc -c -o depth_first_search.o\n",
            "g++ -std=c++11 -O3   utils.cc -c -o utils.o\n",
            "g++ -std=c++11 -O3   io_set.cc -c -o io_set.o\n",
            "g++ -std=c++11 -O3  successor.o ops.o program_state.o main.o datum.o depth_first_search.o utils.o io_set.o -o search\n",
            "make: Leaving directory '/content/deep-coder/DeepCoder_Utils/enumerative-search'\n",
            "  % Total    % Received % Xferd  Average Speed   Time    Time     Time  Current\n",
            "                                 Dload  Upload   Total   Spent    Left  Speed\n",
            "100  1580  100  1580    0     0  13620      0 --:--:-- --:--:-- --:--:-- 13620\n",
            "********************************************************************************\n",
            "GPU is not enabled!\n",
            "Open \"Runtime\" > \"Change runtime type\" and set \"Hardware accelerator\" to \"GPU\".\n",
            "********************************************************************************\n"
          ],
          "name": "stdout"
        }
      ]
    },
    {
      "cell_type": "markdown",
      "metadata": {
        "id": "Oz7sdzxUi70b",
        "colab_type": "text"
      },
      "source": [
        "### Load Dataset and Results\n",
        "* Load dataset\n",
        "* Load results"
      ]
    },
    {
      "cell_type": "code",
      "metadata": {
        "id": "h7kdglcUjDTQ",
        "colab_type": "code",
        "colab": {}
      },
      "source": [
        "import pickle\n",
        "\n",
        "# Load model\n",
        "with open(valid_dataset_path, \"rb\") as f:\n",
        "    valid_dataset = pickle.load(f)\n",
        "\n",
        "# Load results\n",
        "results = dict()\n",
        "for path in result_path_list:\n",
        "    with open(path, \"rb\") as f:\n",
        "        results[path] = pickle.load(f)\n"
      ],
      "execution_count": 0,
      "outputs": []
    },
    {
      "cell_type": "markdown",
      "metadata": {
        "id": "kr3F1N-V5ZCi",
        "colab_type": "text"
      },
      "source": [
        "### Visualize Results\n"
      ]
    },
    {
      "cell_type": "markdown",
      "metadata": {
        "colab_type": "text",
        "id": "UFdUihGlRO1A"
      },
      "source": [
        "* Show the time needed to solve"
      ]
    },
    {
      "cell_type": "code",
      "metadata": {
        "colab_type": "code",
        "id": "sxGwuWQSRO1C",
        "colab": {}
      },
      "source": [
        "#@markdown ### Visualization Parameters\n",
        "#@markdown |Name    |Description|\n",
        "#@markdown |:---    |:---|\n",
        "#@markdown |`width` |The width of the matplotlib plot|\n",
        "#@markdown |`height`|The height of the matplotlib plot|\n",
        "width = 12 #@param {type: \"slider\", min: 1, max: 48, step: 1}\n",
        "height = 4 #@param {type: \"slider\", min: 1, max: 48, step: 1}\n"
      ],
      "execution_count": 0,
      "outputs": []
    },
    {
      "cell_type": "code",
      "metadata": {
        "colab_type": "code",
        "id": "6A5-TdZKRO1K",
        "outputId": "51e9ba0e-9743-4de7-b24d-36a9f2160ff0",
        "colab": {
          "base_uri": "https://localhost:8080/",
          "height": 298
        }
      },
      "source": [
        "import matplotlib.pyplot as plt\n",
        "\n",
        "plt.figure(figsize=(width, height))\n",
        "\n",
        "required_times = dict()\n",
        "for path in results.keys():\n",
        "    t = [r.time_seconds for r in results[path].values() if r.is_solved]\n",
        "    t.sort()\n",
        "    required_times[path] = t\n",
        "\n",
        "plt.axis(\"tight\")\n",
        "plt.axis(\"off\")\n",
        "plt.title(\"Search Speed\")\n",
        "\n",
        "rowLabels = list(results.keys())\n",
        "colLabels = [\"20%\", \"40%\", \"60%\", \"80%\", \"100%\"]\n",
        "\n",
        "text = []\n",
        "for path in rowLabels:\n",
        "    r = 0.0\n",
        "    t = required_times[path]\n",
        "    row = []\n",
        "    for i in range(5):\n",
        "        r += 0.2\n",
        "        num = int(len(valid_dataset.dataset) * r)\n",
        "        row.append(\"{} sec\".format(t[num]) if len(t) > num else \"-\")\n",
        "    text.append(row)\n",
        "\n",
        "plt.table(cellText=text, colLabels=colLabels,\n",
        "               rowLabels=rowLabels, loc=\"center\")"
      ],
      "execution_count": 7,
      "outputs": [
        {
          "output_type": "execute_result",
          "data": {
            "text/plain": [
              "<matplotlib.table.Table at 0x7f03d629f320>"
            ]
          },
          "metadata": {
            "tags": []
          },
          "execution_count": 7
        },
        {
          "output_type": "display_data",
          "data": {
            "image/png": "[encoded data removed]",
            "text/plain": [
              "<Figure size 864x288 with 1 Axes>"
            ]
          },
          "metadata": {
            "tags": []
          }
        }
      ]
    },
    {
      "cell_type": "markdown",
      "metadata": {
        "id": "95XYnQQlNtMH",
        "colab_type": "text"
      },
      "source": [
        "* Show the nodes exploration needed to solve"
      ]
    },
    {
      "cell_type": "code",
      "metadata": {
        "id": "q6Ik8J8MAcbv",
        "colab_type": "code",
        "colab": {}
      },
      "source": [
        "#@markdown ### Visualization Parameters\n",
        "#@markdown |Name    |Description|\n",
        "#@markdown |:---    |:---|\n",
        "#@markdown |`width` |The width of the matplotlib plot|\n",
        "#@markdown |`height`|The height of the matplotlib plot|\n",
        "width = 12 #@param {type: \"slider\", min: 1, max: 48, step: 1}\n",
        "height = 4 #@param {type: \"slider\", min: 1, max: 48, step: 1}\n"
      ],
      "execution_count": 0,
      "outputs": []
    },
    {
      "cell_type": "code",
      "metadata": {
        "id": "TdtM61G15xJx",
        "colab_type": "code",
        "outputId": "3deefe99-1138-4a6a-bcbd-6c9c3fa67094",
        "colab": {
          "base_uri": "https://localhost:8080/",
          "height": 298
        }
      },
      "source": [
        "import matplotlib.pyplot as plt\n",
        "\n",
        "plt.figure(figsize=(width, height))\n",
        "\n",
        "required_nodes = dict()\n",
        "for path in results.keys():\n",
        "    n = [r.explored_nodes for r in results[path].values() if r.is_solved]\n",
        "    n.sort()\n",
        "    required_nodes[path] = n\n",
        "\n",
        "plt.axis(\"tight\")\n",
        "plt.axis(\"off\")\n",
        "plt.title(\"Explored Nodes\")\n",
        "\n",
        "rowLabels = list(results.keys())\n",
        "colLabels = [\"20%\", \"40%\", \"60%\", \"80%\", \"100%\"]\n",
        "\n",
        "text = []\n",
        "for path in rowLabels:\n",
        "    r = 0.0\n",
        "    t = required_nodes[path]\n",
        "    row = []\n",
        "    for i in range(5):\n",
        "        r += 0.2\n",
        "        num = int(len(valid_dataset.dataset) * r)\n",
        "        row.append(\"{}\".format(t[num]) if len(t) > num else \"-\")\n",
        "    text.append(row)\n",
        "\n",
        "plt.table(cellText=text, colLabels=colLabels,\n",
        "               rowLabels=rowLabels, loc=\"center\")"
      ],
      "execution_count": 9,
      "outputs": [
        {
          "output_type": "execute_result",
          "data": {
            "text/plain": [
              "<matplotlib.table.Table at 0x7f03d6ec3780>"
            ]
          },
          "metadata": {
            "tags": []
          },
          "execution_count": 9
        },
        {
          "output_type": "display_data",
          "data": {
            "image/png": "[encoded data removed]",
            "text/plain": [
              "<Figure size 864x288 with 1 Axes>"
            ]
          },
          "metadata": {
            "tags": []
          }
        }
      ]
    },
    {
      "cell_type": "markdown",
      "metadata": {
        "id": "dGDkEoWPSH4k",
        "colab_type": "text"
      },
      "source": [
        "* Show the detail of the specified entry"
      ]
    },
    {
      "cell_type": "code",
      "metadata": {
        "colab_type": "code",
        "id": "Zw7fHLT9SGcE",
        "colab": {}
      },
      "source": [
        "#@markdown ### Visualization Parameters\n",
        "#@markdown |Name    |Description|\n",
        "#@markdown |:---    |:---|\n",
        "#@markdown |`width` |The width of the matplotlib plot|\n",
        "#@markdown |`height`|The height of the matplotlib plot|\n",
        "#@markdown |`index`  |The index of the specified entry|\n",
        "width = 36 #@param {type: \"slider\", min: 1, max: 48, step: 1}\n",
        "height = 1 #@param {type: \"slider\", min: 1, max: 48, step: 1}\n",
        "index = 0 #@param {type: \"number\"}\n"
      ],
      "execution_count": 0,
      "outputs": []
    },
    {
      "cell_type": "code",
      "metadata": {
        "id": "uuZSF82T9zCg",
        "colab_type": "code",
        "outputId": "b579b7d9-ba5c-41b1-cc29-cb034ed0afb4",
        "colab": {
          "base_uri": "https://localhost:8080/",
          "height": 835
        }
      },
      "source": [
        "from matplotlib import colors\n",
        "import matplotlib.cm as cm\n",
        "import matplotlib.pyplot as plt\n",
        "\n",
        "m = cm.ScalarMappable(norm=colors.Normalize(vmin=0, vmax=1), cmap=cm.Greens)\n",
        "\n",
        "plt.figure(figsize=(width, height))\n",
        "    \n",
        "entry = valid_dataset.dataset[index][0]\n",
        "print(\"Valid {}\".format(index))\n",
        "print(\"Examples\")\n",
        "for i, example in enumerate(entry.examples):\n",
        "    print(\"Example {}\".format(i))\n",
        "    for j, input in enumerate(example.inputs):\n",
        "        print(\"  input {}: {}\".format(j, input))\n",
        "    print(\"  output: {}\".format(example.output))\n",
        "print()\n",
        "\n",
        "print(\"Source Code\")\n",
        "print(\"Ground Truth\")\n",
        "print(entry.source_code)\n",
        "print()\n",
        "for path, result in results.items():\n",
        "    print(path)\n",
        "    print(result[index].solution)\n",
        "    print()\n",
        "\n",
        "plt.title(\"Attributes\")\n",
        "labels = [\"Ground Truth\"]\n",
        "ticks = [0.5]\n",
        "data = np.ones(len(entry.attribute))\n",
        "colors = []\n",
        "for _, v in entry.attribute.items():\n",
        "    colors.append(m.to_rgba(1 if v else 0))\n",
        "xs = np.arange(len(entry.attribute))\n",
        "plt.bar(xs, data, width=0.9, bottom=np.zeros(1),\n",
        "        color=colors, tick_label=list(entry.attribute.keys()))\n",
        "\n",
        "for i, (path, result) in enumerate(results.items()):\n",
        "    labels.append(path)\n",
        "    ticks.append(i + 1.5)\n",
        "    colors = []\n",
        "    for key in entry.attribute.keys():\n",
        "        colors.append(m.to_rgba(result[index].probabilities[key]))\n",
        "    plt.bar(xs, data, width=0.9, bottom=np.ones(1) * (i + 1), color=colors,\n",
        "            tick_label=list(entry.attribute.keys()))\n",
        "\n",
        "plt.yticks(ticks=ticks, labels=labels)\n"
      ],
      "execution_count": 11,
      "outputs": [
        {
          "output_type": "stream",
          "text": [
            "Valid 0\n",
            "Examples\n",
            "Example 0\n",
            "  input 0: [6, 3, -6, 4, 0, -2, -2, 0, 4, 4, 2, 6, 3, -2, 7, 7, -3, -4, 0, -6]\n",
            "  input 1: [-3, -2, -5, 5, -5, -6, 7, 3, 3, -3, 1, 5, 2, 5, -1, -3, 0, -1, -2, 7]\n",
            "  output: [20, 6, 0, 0, 6, 4, 20, 2, 0, 12, 0, 0, 0, 12, 16, 25, 2, 2, 1, 42]\n",
            "Example 1\n",
            "  input 0: [-6, -6, -3, 6, 2, -2, -2, 4, 1, 5, 7, -4, -3, 6, 1, -4, -2, 1, -2, -4]\n",
            "  input 1: [-6, 5, -2, -6, 7, 1, -1, -1, -6, 1, -6, -6, 1, 6, 0, 1, 0, 3, -4, -2]\n",
            "  output: [0, 30, 0, 36, 6, 2, 0, 6, 12, 4, 42, 1, 4, 0, 0, 6, 1, 1, 1, 1]\n",
            "Example 2\n",
            "  input 0: [-2, 5, 3, -5, 1, -2, -6, -6, -1, 2, 6, 5, 6, 0, 0, 0, -2, 5, -1, -3]\n",
            "  input 1: [-5, 2, 7, -2, 1, 7, -5, -3, 6, -1, -5, -6, 2, -1, 0, -5, 4, 2, 2, -6]\n",
            "  output: [2, 2, 4, 2, 0, 20, 0, 2, 12, 2, 30, 30, 4, 0, 0, 6, 9, 2, 2, 2]\n",
            "Example 3\n",
            "  input 0: [2, -4, 5, 6, -6, 4, 6, 0, 0, -5, 1, 0, 3, -5, -4, -3, 3, 4, 4, 2]\n",
            "  input 1: [0, 5, 1, -1, -5, 7, 1, 3, 6, 6, -2, -2, 1, 1, 7, 6, 6, 0, 0, 1]\n",
            "  output: [1, 20, 4, 12, 0, 2, 6, 2, 9, 30, 2, 1, 1, 9, 30, 20, 2, 4, 4, 0]\n",
            "Example 4\n",
            "  input 0: [-2, 0, 5, 5, -5, 2, 4, 1, 7, 5, -6, 1, 4, -6, 3, 1, 3, 0, 6, 2]\n",
            "  input 1: [5, -2, -1, 7, 7, 1, -2, 6, -2, -1, -6, 7, 7, 2, -4, 3, 5, 1, 3, -3]\n",
            "  output: [12, 1, 9, 1, 36, 0, 9, 6, 20, 9, 0, 9, 2, 16, 12, 1, 1, 0, 2, 6]\n",
            "\n",
            "Source Code\n",
            "Ground Truth\n",
            "a <- [int]\n",
            "b <- [int]\n",
            "c <- ZIPWITH - a b\n",
            "d <- ZIPWITH * c c\n",
            "e <- MAP DIV4 d\n",
            "\n",
            "/gdrive/My Drive/DeepCoder/out/length_3/baseline/result.pickle\n",
            "\n",
            "\n",
            "/gdrive/My Drive/DeepCoder/out/length_3/deep-coder/result.pickle\n",
            "\n",
            "\n"
          ],
          "name": "stdout"
        },
        {
          "output_type": "execute_result",
          "data": {
            "text/plain": [
              "([<matplotlib.axis.YTick at 0x7f03d6587c88>,\n",
              "  <matplotlib.axis.YTick at 0x7f03d65875c0>,\n",
              "  <matplotlib.axis.YTick at 0x7f03d7451c18>],\n",
              " <a list of 3 Text yticklabel objects>)"
            ]
          },
          "metadata": {
            "tags": []
          },
          "execution_count": 11
        },
        {
          "output_type": "display_data",
          "data": {
            "image/png": "[encoded data removed]",
            "text/plain": [
              "<Figure size 2592x72 with 1 Axes>"
            ]
          },
          "metadata": {
            "tags": []
          }
        }
      ]
    },
    {
      "cell_type": "code",
      "metadata": {
        "id": "sOkPmTFLBzSH",
        "colab_type": "code",
        "colab": {}
      },
      "source": [
        ""
      ],
      "execution_count": 0,
      "outputs": []
    }
  ]
}