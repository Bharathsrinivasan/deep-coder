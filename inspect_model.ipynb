{
  "nbformat": 4,
  "nbformat_minor": 0,
  "metadata": {
    "colab": {
      "name": "deep-coder inspect-model",
      "version": "0.3.2",
      "provenance": [],
      "private_outputs": true,
      "collapsed_sections": []
    },
    "kernelspec": {
      "name": "python3",
      "display_name": "Python 3"
    }
  },
  "cells": [
    {
      "cell_type": "markdown",
      "metadata": {
        "id": "yje9hqtcUQ_f",
        "colab_type": "text"
      },
      "source": [
        "### Initialization\n",
        "* Check whether the runtime is host or local.\n",
        "* Mount Google Drive when using the host runtime."
      ]
    },
    {
      "cell_type": "code",
      "metadata": {
        "id": "FwqGy_GyUQnw",
        "colab_type": "code",
        "colab": {}
      },
      "source": [
        "try:\n",
        "  from google.colab import drive\n",
        "  drive.mount('/gdrive')\n",
        "  runtime = \"host\"\n",
        "except:\n",
        "  runtime = \"local\""
      ],
      "execution_count": 0,
      "outputs": []
    },
    {
      "cell_type": "markdown",
      "metadata": {
        "id": "_S457sT6QMUr",
        "colab_type": "text"
      },
      "source": [
        "### Parameters"
      ]
    },
    {
      "cell_type": "code",
      "metadata": {
        "id": "2LYvG4iCQUwh",
        "colab_type": "code",
        "colab": {}
      },
      "source": [
        "#@title Parameters\n",
        "#@markdown |Name            |Description|\n",
        "#@markdown |:---            |:---|\n",
        "#@markdown |`seed`|The random seed|\n",
        "seed = 3984 #@param {type: \"number\"}\n",
        "\n",
        "#@markdown ### `deep-coder` Repositories\n",
        "#@markdown |Name            |Description|\n",
        "#@markdown |:---            |:---|\n",
        "#@markdown |`repository_url`|The URL of `deep-coder` git repository (enabled only in the host runtime)|\n",
        "#@markdown |`branch_name`   |The branch name (enabled only in the host runtime)|\n",
        "repository_url = \"https://github.com/HiroakiMikami/deep-coder\" #@param {type: \"string\"}\n",
        "branch_name = \"master\" #@param {type: \"string\"}\n",
        "\n",
        "#@markdown ### Filepathes\n",
        "#@markdown |Name              |Description|\n",
        "#@markdown |:---              |:---|\n",
        "#@markdown |`model_shape_path`|The file path of the model shape.|\n",
        "#@markdown |`model_path`      |The file path of the model parameters.|\n",
        "model_shape_path = \"out/model-shape.pickle\" #@param {type: \"string\"}\n",
        "model_path = \"out/model.npz\" #@param {type: \"string\"}\n",
        "\n"
      ],
      "execution_count": 0,
      "outputs": []
    },
    {
      "cell_type": "markdown",
      "metadata": {
        "id": "_BembldCdOO1",
        "colab_type": "text"
      },
      "source": [
        "### Setup\n",
        "* Fix the random seed\n",
        "* Download the codebase (when using the host runtime)\n",
        "  1. Clone git repository and move to the specified branch\n",
        "  2. Initialize submodule\n",
        "  3. Build the `search` tool\n",
        "  4. Install chainer and cupy"
      ]
    },
    {
      "cell_type": "code",
      "metadata": {
        "id": "GwjlAkY1fR5j",
        "colab_type": "code",
        "colab": {}
      },
      "source": [
        "import numpy as np\n",
        "import random\n",
        "\n",
        "SEED_MAX = 2**32 - 1\n",
        "\n",
        "root_rng = np.random.RandomState(seed)\n",
        "random.seed(root_rng.randint(SEED_MAX))\n",
        "np.random.seed(root_rng.randint(SEED_MAX))"
      ],
      "execution_count": 0,
      "outputs": []
    },
    {
      "cell_type": "code",
      "metadata": {
        "id": "FIZJmuz8QFn_",
        "colab_type": "code",
        "colab": {}
      },
      "source": [
        "if runtime == \"host\":\n",
        "  %cd /content\n",
        "  !rm -rf deep-coder\n",
        "  ![ ! -e deep-coder ] && git clone $repository_url deep-coder\n",
        "  %cd deep-coder\n",
        "  !git checkout origin/$branch_name\n",
        "  !git submodule init\n",
        "  !git submodule update\n",
        "  !make -C DeepCoder_Utils/enumerative-search -j `nproc`\n",
        "  !curl https://colab.chainer.org/install | sh -"
      ],
      "execution_count": 0,
      "outputs": []
    },
    {
      "cell_type": "markdown",
      "metadata": {
        "id": "Oz7sdzxUi70b",
        "colab_type": "text"
      },
      "source": [
        "### Load Model\n",
        "* Load model"
      ]
    },
    {
      "cell_type": "code",
      "metadata": {
        "id": "h7kdglcUjDTQ",
        "colab_type": "code",
        "colab": {}
      },
      "source": [
        "import pickle\n",
        "import chainer as ch\n",
        "from src.model import ModelShapeParameters, Predictor\n",
        "\n",
        "# Load model\n",
        "with open(model_shape_path, \"rb\") as f:\n",
        "    model_shape: ModelShapeParameters = pickle.load(f)\n",
        "predictor = Predictor(model_shape)\n",
        "ch.serializers.load_npz(model_path, predictor)"
      ],
      "execution_count": 0,
      "outputs": []
    },
    {
      "cell_type": "markdown",
      "metadata": {
        "id": "kr3F1N-V5ZCi",
        "colab_type": "text"
      },
      "source": [
        "### Visualize Model\n",
        "* Show integer embeddings"
      ]
    },
    {
      "cell_type": "code",
      "metadata": {
        "id": "q6Ik8J8MAcbv",
        "colab_type": "code",
        "colab": {}
      },
      "source": [
        "#@markdown ### Visualization Parameters\n",
        "#@markdown |Name    |Description|\n",
        "#@markdown |:---    |:---|\n",
        "#@markdown |`width` |The width of the matplotlib plot|\n",
        "#@markdown |`height`|The height of the matplotlib plot|\n",
        "#@markdown ---\n",
        "width = 12 #@param {type: \"slider\", min: 1, max: 48, step: 1}\n",
        "height = 12 #@param {type: \"slider\", min: 1, max: 48, step: 1}\n"
      ],
      "execution_count": 0,
      "outputs": []
    },
    {
      "cell_type": "code",
      "metadata": {
        "id": "TdtM61G15xJx",
        "colab_type": "code",
        "colab": {}
      },
      "source": [
        "import matplotlib.pyplot as plt\n",
        "\n",
        "plt.figure(figsize=(width, height))\n",
        "\n",
        "embed = list(predictor.children())[0]._embed_integer\n",
        "axis_0, axis_1 = np.random.choice(model_shape.n_embed, 2, replace=False)\n",
        "for i in range(-model_shape.dataset_metadata.value_range, model_shape.dataset_metadata.value_range):\n",
        "    e = embed(np.array([i + model_shape.dataset_metadata.value_range]))\n",
        "    x = e.array[0, axis_0]\n",
        "    y = e.array[0, axis_1]\n",
        "\n",
        "    if i == 0:\n",
        "        color = \"b\"\n",
        "    elif i > 0:\n",
        "        color = \"g\"\n",
        "    else:\n",
        "        color = \"r\"\n",
        "\n",
        "    if i % 2 == 0:\n",
        "        shape = \"s\"\n",
        "    else:\n",
        "        shape = \"^\"\n",
        "\n",
        "    plt.plot(x, y, \"{}{}\".format(color, shape))\n",
        "    if abs(i) < 10 or abs(i) > 253:\n",
        "        plt.annotate(\"{}\".format(i), xy=(x, y))\n",
        "\n",
        "e = embed(np.array([2 * model_shape.dataset_metadata.value_range]))\n",
        "x = e.array[0, axis_0]\n",
        "y = e.array[0, axis_1]\n",
        "plt.plot(x, y, \"x\")\n",
        "plt.annotate(\"Null\", xy=(x, y))\n"
      ],
      "execution_count": 0,
      "outputs": []
    }
  ]
}