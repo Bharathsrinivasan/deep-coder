{
  "nbformat": 4,
  "nbformat_minor": 0,
  "metadata": {
    "colab": {
      "name": "deep-coder inspect-dataset",
      "version": "0.3.2",
      "provenance": [],
      "private_outputs": true,
      "collapsed_sections": []
    },
    "kernelspec": {
      "name": "python3",
      "display_name": "Python 3"
    }
  },
  "cells": [
    {
      "cell_type": "markdown",
      "metadata": {
        "id": "yje9hqtcUQ_f",
        "colab_type": "text"
      },
      "source": [
        "### Initialization\n",
        "* Check whether the runtime is host or local.\n",
        "* Mount Google Drive when using the host runtime."
      ]
    },
    {
      "cell_type": "code",
      "metadata": {
        "id": "FwqGy_GyUQnw",
        "colab_type": "code",
        "colab": {}
      },
      "source": [
        "try:\n",
        "  from google.colab import drive\n",
        "  drive.mount('/gdrive')\n",
        "  runtime = \"host\"\n",
        "except:\n",
        "  runtime = \"local\""
      ],
      "execution_count": 0,
      "outputs": []
    },
    {
      "cell_type": "markdown",
      "metadata": {
        "id": "_S457sT6QMUr",
        "colab_type": "text"
      },
      "source": [
        "### Parameters"
      ]
    },
    {
      "cell_type": "code",
      "metadata": {
        "id": "2LYvG4iCQUwh",
        "colab_type": "code",
        "colab": {}
      },
      "source": [
        "#@title Parameters\n",
        "#@markdown |Name            |Description|\n",
        "#@markdown |:---            |:---|\n",
        "#@markdown |`seed`|The random seed|\n",
        "seed = 3984 #@param {type: \"number\"}\n",
        "\n",
        "#@markdown ### `deep-coder` Repositories\n",
        "#@markdown |Name            |Description|\n",
        "#@markdown |:---            |:---|\n",
        "#@markdown |`repository_url`|The URL of `deep-coder` git repository (enabled only in the host runtime)|\n",
        "#@markdown |`branch_name`   |The branch name (enabled only in the host runtime)|\n",
        "repository_url = \"https://github.com/HiroakiMikami/deep-coder\" #@param {type: \"string\"}\n",
        "branch_name = \"master\" #@param {type: \"string\"}\n",
        "\n",
        "#@markdown ### Dataset Filepathes\n",
        "#@markdown |Name                |Description|\n",
        "#@markdown |:---                |:---|\n",
        "#@markdown |`train_dataset_path`|The file path of the training dataset.|\n",
        "#@markdown |`valid_dataset_path`|The file path of the validation dataset.|\n",
        "train_dataset_path = \"dataset/train.pickle\" #@param {type: \"string\"}\n",
        "valid_dataset_path = \"dataset/valid.pickle\" #@param {type: \"string\"}\n",
        "\n"
      ],
      "execution_count": 0,
      "outputs": []
    },
    {
      "cell_type": "markdown",
      "metadata": {
        "id": "_BembldCdOO1",
        "colab_type": "text"
      },
      "source": [
        "### Setup\n",
        "* Fix the random seed\n",
        "* Download the codebase (when using the host runtime)\n",
        "  1. Clone git repository and move to the specified branch\n",
        "  2. Initialize submodule\n",
        "  3. Build the `search` tool\n",
        "  4. Install chainer and cupy\n",
        "* Define common functions"
      ]
    },
    {
      "cell_type": "code",
      "metadata": {
        "id": "GwjlAkY1fR5j",
        "colab_type": "code",
        "colab": {}
      },
      "source": [
        "import numpy as np\n",
        "import random\n",
        "\n",
        "SEED_MAX = 2**32 - 1\n",
        "\n",
        "root_rng = np.random.RandomState(seed)\n",
        "random.seed(root_rng.randint(SEED_MAX))\n",
        "np.random.seed(root_rng.randint(SEED_MAX))"
      ],
      "execution_count": 0,
      "outputs": []
    },
    {
      "cell_type": "code",
      "metadata": {
        "id": "FIZJmuz8QFn_",
        "colab_type": "code",
        "colab": {}
      },
      "source": [
        "if runtime == \"host\":\n",
        "  %cd /content\n",
        "  !rm -rf deep-coder\n",
        "  ![ ! -e deep-coder ] && git clone $repository_url deep-coder\n",
        "  %cd deep-coder\n",
        "  !git checkout origin/$branch_name\n",
        "  !git submodule init\n",
        "  !git submodule update\n",
        "  !make -C DeepCoder_Utils/enumerative-search -j `nproc`\n",
        "  !curl https://colab.chainer.org/install | sh -\n",
        "  !pip install tqdm"
      ],
      "execution_count": 0,
      "outputs": []
    },
    {
      "cell_type": "code",
      "metadata": {
        "id": "kiJYKCy87zwb",
        "colab_type": "code",
        "colab": {}
      },
      "source": [
        "def is_input(line):\n",
        "    return 1 if (\"<- int\" in line or \"<- [int]\" in line) else 0"
      ],
      "execution_count": 0,
      "outputs": []
    },
    {
      "cell_type": "markdown",
      "metadata": {
        "id": "Oz7sdzxUi70b",
        "colab_type": "text"
      },
      "source": [
        "### Load Datasets\n",
        "* Load dataset"
      ]
    },
    {
      "cell_type": "code",
      "metadata": {
        "id": "h7kdglcUjDTQ",
        "colab_type": "code",
        "colab": {}
      },
      "source": [
        "import pickle\n",
        "\n",
        "with open(train_dataset_path, \"rb\") as f:\n",
        "  train_dataset = pickle.load(f)\n",
        "\n",
        "with open(valid_dataset_path, \"rb\") as f:\n",
        "  valid_dataset = pickle.load(f)"
      ],
      "execution_count": 0,
      "outputs": []
    },
    {
      "cell_type": "markdown",
      "metadata": {
        "id": "kr3F1N-V5ZCi",
        "colab_type": "text"
      },
      "source": [
        "### Visualize Datasets\n",
        "* Show the graph of #inputs and #entries in the dataset."
      ]
    },
    {
      "cell_type": "code",
      "metadata": {
        "id": "q6Ik8J8MAcbv",
        "colab_type": "code",
        "colab": {}
      },
      "source": [
        "#@markdown ### Visualization Parameters\n",
        "#@markdown |Name    |Description|\n",
        "#@markdown |:---    |:---|\n",
        "#@markdown |`width` |The width of the matplotlib plot|\n",
        "#@markdown |`height`|The height of the matplotlib plot|\n",
        "#@markdown ---\n",
        "width = 12 #@param {type: \"slider\", min: 1, max: 48, step: 1}\n",
        "height = 4 #@param {type: \"slider\", min: 1, max: 48, step: 1}\n"
      ],
      "execution_count": 0,
      "outputs": []
    },
    {
      "cell_type": "code",
      "metadata": {
        "id": "TdtM61G15xJx",
        "colab_type": "code",
        "colab": {}
      },
      "source": [
        "import matplotlib.pyplot as plt\n",
        "\n",
        "train = [sum(map(is_input, entry.source_code.split(\"\\n\"))) for entry, in train_dataset.dataset]\n",
        "valid = [sum(map(is_input, entry.source_code.split(\"\\n\"))) for entry, in valid_dataset.dataset]\n",
        "\n",
        "plt.figure(figsize=(width, height))\n",
        "plt.hist(train)\n",
        "plt.hist(valid)\n",
        "plt.legend([\"training\", \"validation\"])\n",
        "plt.xlabel(\"#Inputs\")\n",
        "plt.ylabel(\"#Entries\")"
      ],
      "execution_count": 0,
      "outputs": []
    },
    {
      "cell_type": "markdown",
      "metadata": {
        "id": "z40AzKb079Fd",
        "colab_type": "text"
      },
      "source": [
        "* Show the graph of body-length and #entries in the dataset.\n"
      ]
    },
    {
      "cell_type": "code",
      "metadata": {
        "colab_type": "code",
        "id": "ZYzVa_imA1tN",
        "colab": {}
      },
      "source": [
        "#@markdown ### Visualization Parameters\n",
        "#@markdown |Name    |Description|\n",
        "#@markdown |:---    |:---|\n",
        "#@markdown |`width` |The width of the matplotlib plot|\n",
        "#@markdown |`height`|The height of the matplotlib plot|\n",
        "#@markdown ---\n",
        "width = 12 #@param {type: \"slider\", min: 1, max: 48, step: 1}\n",
        "height = 4 #@param {type: \"slider\", min: 1, max: 48, step: 1}\n"
      ],
      "execution_count": 0,
      "outputs": []
    },
    {
      "cell_type": "code",
      "metadata": {
        "id": "HSnoJgEP5xAT",
        "colab_type": "code",
        "colab": {}
      },
      "source": [
        "import matplotlib.pyplot as plt\n",
        "\n",
        "train = [len(entry.source_code.split(\"\\n\")) - sum(map(is_input, entry.source_code.split(\"\\n\"))) for entry, in train_dataset.dataset]\n",
        "valid = [len(entry.source_code.split(\"\\n\")) - sum(map(is_input, entry.source_code.split(\"\\n\"))) for entry, in valid_dataset.dataset]\n",
        "\n",
        "plt.figure(figsize=(width, height))\n",
        "plt.hist(train)\n",
        "plt.hist(valid)\n",
        "plt.legend([\"training\", \"validation\"])\n",
        "plt.xlabel(\"length of body\")\n",
        "plt.ylabel(\"#Entries\")"
      ],
      "execution_count": 0,
      "outputs": []
    },
    {
      "cell_type": "markdown",
      "metadata": {
        "id": "eioRCab97_Cx",
        "colab_type": "text"
      },
      "source": [
        "* Show the prior distribution of the training dataset"
      ]
    },
    {
      "cell_type": "code",
      "metadata": {
        "colab_type": "code",
        "id": "chx-5LtlA37C",
        "colab": {}
      },
      "source": [
        "#@markdown ### Visualization Parameters\n",
        "#@markdown |Name    |Description|\n",
        "#@markdown |:---    |:---|\n",
        "#@markdown |`width` |The width of the matplotlib plot|\n",
        "#@markdown |`height`|The height of the matplotlib plot|\n",
        "#@markdown ---\n",
        "width = 36 #@param {type: \"slider\", min: 1, max: 48, step: 1}\n",
        "height = 8 #@param {type: \"slider\", min: 1, max: 48, step: 1}\n"
      ],
      "execution_count": 0,
      "outputs": []
    },
    {
      "cell_type": "code",
      "metadata": {
        "id": "IBxXAO9G8ABY",
        "colab_type": "code",
        "colab": {}
      },
      "source": [
        "import matplotlib.pyplot as plt\n",
        "from src.dataset import prior_distribution\n",
        "\n",
        "# prior-distribution\n",
        "prior = prior_distribution(train_dataset.dataset)\n",
        "columns = []\n",
        "data = []\n",
        "for symbol, prob in prior.items():\n",
        "    columns.append(symbol)\n",
        "    data.append(prob)\n",
        "data = np.array(data)\n",
        "\n",
        "# Show plot\n",
        "xs = np.arange(len(columns)) + 1\n",
        "plt.figure(figsize=(width, height))\n",
        "plt.bar(xs, data, width=0.4, bottom=np.zeros(1), tick_label=columns)\n",
        "plt.ylabel(\"Probability\")\n",
        "plt.xlabel(\"Symbol\")\n",
        "plt.title(\"Prior Distribution\")\n"
      ],
      "execution_count": 0,
      "outputs": []
    },
    {
      "cell_type": "markdown",
      "metadata": {
        "id": "AaAfw0Y69yVZ",
        "colab_type": "text"
      },
      "source": [
        "* Show the detail of the specified entry"
      ]
    },
    {
      "cell_type": "code",
      "metadata": {
        "id": "c8FppYnoAum1",
        "colab_type": "code",
        "colab": {}
      },
      "source": [
        "#@markdown ### Visualization Parameters\n",
        "#@markdown |Name     |Description|\n",
        "#@markdown |:---     |:---|\n",
        "#@markdown |`width`  |The width of the matplotlib plot|\n",
        "#@markdown |`height` |The height of the matplotlib plot|\n",
        "#@markdown |`dataset`|The dataset contains the specified entry|\n",
        "#@markdown |`index`  |The index of the specified entry|\n",
        "#@markdown ---\n",
        "width = 36 #@param {type: \"slider\", min: 1, max: 48, step: 1}\n",
        "height = 1 #@param {type: \"slider\", min: 1, max: 48, step: 1}\n",
        "dataset = \"train\" #@param [\"train\", \"valid\"]\n",
        "index = 0 #@param {type: \"number\"}\n"
      ],
      "execution_count": 0,
      "outputs": []
    },
    {
      "cell_type": "code",
      "metadata": {
        "id": "uuZSF82T9zCg",
        "colab_type": "code",
        "colab": {}
      },
      "source": [
        "from matplotlib import colors\n",
        "import matplotlib.cm as cm\n",
        "import matplotlib.pyplot as plt\n",
        "\n",
        "m = cm.ScalarMappable(norm=colors.Normalize(vmin=0, vmax=1), cmap=cm.Greens)\n",
        "\n",
        "plt.figure(figsize=(width, height))\n",
        "    \n",
        "def show_entry(title, entry):\n",
        "    print(title)\n",
        "    print(\"Source Code\")\n",
        "    print(entry.source_code)\n",
        "\n",
        "    print()\n",
        "    print(\"Examples\")\n",
        "    for i, example in enumerate(entry.examples):\n",
        "        print(\"Example {}\".format(i))\n",
        "        for j, input in enumerate(example.inputs):\n",
        "            print(\"  input {}: {}\".format(j, input))\n",
        "        print(\"  output: {}\".format(example.output))\n",
        "\n",
        "    plt.title(\"Attributes\")\n",
        "    plt.gca().yaxis.set_visible(False)\n",
        "    data = np.ones(len(entry.attribute))\n",
        "    colors = []\n",
        "    for _, v in entry.attribute.items():\n",
        "        colors.append(m.to_rgba(1 if v else 0))\n",
        "    xs = np.arange(len(entry.attribute)) + 10\n",
        "    plt.bar(xs, data, width=0.9, bottom=np.zeros(1),\n",
        "            color=colors, tick_label=list(entry.attribute.keys()))\n",
        "\n",
        "entry = (train_dataset if dataset == \"train\" else valid_dataset).dataset[index][0]\n",
        "show_entry(\"{} {}\".format(dataset, index), entry)\n"
      ],
      "execution_count": 0,
      "outputs": []
    }
  ]
}