{
  "nbformat": 4,
  "nbformat_minor": 0,
  "metadata": {
    "colab": {
      "name": "deep-coder inspect-validation-results",
      "version": "0.3.2",
      "provenance": [],
      "private_outputs": true,
      "collapsed_sections": []
    },
    "kernelspec": {
      "name": "python3",
      "display_name": "Python 3"
    }
  },
  "cells": [
    {
      "cell_type": "markdown",
      "metadata": {
        "id": "yje9hqtcUQ_f",
        "colab_type": "text"
      },
      "source": [
        "### Initialization\n",
        "* Check whether the runtime is host or local.\n",
        "* Mount Google Drive when using the host runtime."
      ]
    },
    {
      "cell_type": "code",
      "metadata": {
        "id": "FwqGy_GyUQnw",
        "colab_type": "code",
        "colab": {}
      },
      "source": [
        "try:\n",
        "  from google.colab import drive\n",
        "  drive.mount('/gdrive')\n",
        "  runtime = \"host\"\n",
        "except:\n",
        "  runtime = \"local\""
      ],
      "execution_count": 0,
      "outputs": []
    },
    {
      "cell_type": "markdown",
      "metadata": {
        "id": "_S457sT6QMUr",
        "colab_type": "text"
      },
      "source": [
        "### Parameters"
      ]
    },
    {
      "cell_type": "code",
      "metadata": {
        "id": "2LYvG4iCQUwh",
        "colab_type": "code",
        "colab": {}
      },
      "source": [
        "#@title Parameters\n",
        "#@markdown |Name            |Description|\n",
        "#@markdown |:---            |:---|\n",
        "#@markdown |`seed`|The random seed|\n",
        "seed = 3984 #@param {type: \"number\"}\n",
        "\n",
        "#@markdown ### `deep-coder` Repositories\n",
        "#@markdown |Name            |Description|\n",
        "#@markdown |:---            |:---|\n",
        "#@markdown |`repository_url`|The URL of `deep-coder` git repository (enabled only in the host runtime)|\n",
        "#@markdown |`branch_name`   |The branch name (enabled only in the host runtime)|\n",
        "repository_url = \"https://github.com/HiroakiMikami/deep-coder\" #@param {type: \"string\"}\n",
        "branch_name = \"master\" #@param {type: \"string\"}\n",
        "\n",
        "#@markdown ### Filepathes\n",
        "#@markdown |Name                |Description|\n",
        "#@markdown |:---                |:---|\n",
        "#@markdown |`valid_dataset_path`|The file path of the validation dataset|\n",
        "#@markdown |`result_pathes`     |The comma separated list of the validation results|\n",
        "valid_dataset_path = \"dataset/valid.pickle\" #@param {type: \"string\"}\n",
        "result_pathes = \"out/baseline/result.pickle,out/deep-coder/result.pickle\" #@param {type: \"string\"}\n",
        "result_path_list = list(result_pathes.split(\",\"))"
      ],
      "execution_count": 0,
      "outputs": []
    },
    {
      "cell_type": "markdown",
      "metadata": {
        "id": "_BembldCdOO1",
        "colab_type": "text"
      },
      "source": [
        "### Setup\n",
        "* Fix the random seed\n",
        "* Download the codebase (when using the host runtime)\n",
        "  1. Clone git repository and move to the specified branch\n",
        "  2. Initialize submodule\n",
        "  3. Build the `search` tool\n",
        "  4. Install chainer and cupy"
      ]
    },
    {
      "cell_type": "code",
      "metadata": {
        "id": "GwjlAkY1fR5j",
        "colab_type": "code",
        "colab": {}
      },
      "source": [
        "import numpy as np\n",
        "import random\n",
        "\n",
        "SEED_MAX = 2**32 - 1\n",
        "\n",
        "root_rng = np.random.RandomState(seed)\n",
        "random.seed(root_rng.randint(SEED_MAX))\n",
        "np.random.seed(root_rng.randint(SEED_MAX))"
      ],
      "execution_count": 0,
      "outputs": []
    },
    {
      "cell_type": "code",
      "metadata": {
        "id": "FIZJmuz8QFn_",
        "colab_type": "code",
        "colab": {}
      },
      "source": [
        "if runtime == \"host\":\n",
        "  %cd /content\n",
        "  !rm -rf deep-coder\n",
        "  ![ ! -e deep-coder ] && git clone $repository_url deep-coder\n",
        "  %cd deep-coder\n",
        "  !git checkout origin/$branch_name\n",
        "  !git submodule init\n",
        "  !git submodule update\n",
        "  !make -C DeepCoder_Utils/enumerative-search -j `nproc`\n",
        "  !curl https://colab.chainer.org/install | sh -"
      ],
      "execution_count": 0,
      "outputs": []
    },
    {
      "cell_type": "markdown",
      "metadata": {
        "id": "Oz7sdzxUi70b",
        "colab_type": "text"
      },
      "source": [
        "### Load Dataset and Results\n",
        "* Load dataset\n",
        "* Load results"
      ]
    },
    {
      "cell_type": "code",
      "metadata": {
        "id": "h7kdglcUjDTQ",
        "colab_type": "code",
        "colab": {}
      },
      "source": [
        "import pickle\n",
        "\n",
        "# Load model\n",
        "with open(valid_dataset_path, \"rb\") as f:\n",
        "    valid_dataset = pickle.load(f)\n",
        "\n",
        "# Load results\n",
        "results = dict()\n",
        "for path in result_path_list:\n",
        "    with open(path, \"rb\") as f:\n",
        "        results[path] = pickle.load(f)\n"
      ],
      "execution_count": 0,
      "outputs": []
    },
    {
      "cell_type": "markdown",
      "metadata": {
        "id": "kr3F1N-V5ZCi",
        "colab_type": "text"
      },
      "source": [
        "### Visualize Results\n"
      ]
    },
    {
      "cell_type": "markdown",
      "metadata": {
        "colab_type": "text",
        "id": "UFdUihGlRO1A"
      },
      "source": [
        "* Show the time needed to solve"
      ]
    },
    {
      "cell_type": "code",
      "metadata": {
        "colab_type": "code",
        "id": "sxGwuWQSRO1C",
        "colab": {}
      },
      "source": [
        "#@markdown ### Visualization Parameters\n",
        "#@markdown |Name    |Description|\n",
        "#@markdown |:---    |:---|\n",
        "#@markdown |`width` |The width of the matplotlib plot|\n",
        "#@markdown |`height`|The height of the matplotlib plot|\n",
        "width = 12 #@param {type: \"slider\", min: 1, max: 48, step: 1}\n",
        "height = 4 #@param {type: \"slider\", min: 1, max: 48, step: 1}\n"
      ],
      "execution_count": 0,
      "outputs": []
    },
    {
      "cell_type": "code",
      "metadata": {
        "colab_type": "code",
        "id": "6A5-TdZKRO1K",
        "colab": {}
      },
      "source": [
        "import matplotlib.pyplot as plt\n",
        "\n",
        "plt.figure(figsize=(width, height))\n",
        "\n",
        "required_times = dict()\n",
        "for path in results.keys():\n",
        "    t = [r.time_seconds for r in results[path].values() if r.is_solved]\n",
        "    t.sort()\n",
        "    required_times[path] = t\n",
        "\n",
        "plt.axis(\"tight\")\n",
        "plt.axis(\"off\")\n",
        "plt.title(\"Search Speed\")\n",
        "\n",
        "rowLabels = list(results.keys())\n",
        "colLabels = [\"20%\", \"40%\", \"60%\", \"80%\", \"100%\"]\n",
        "\n",
        "text = []\n",
        "for path in rowLabels:\n",
        "    r = 0.0\n",
        "    t = required_times[path]\n",
        "    row = []\n",
        "    for i in range(5):\n",
        "        r += 0.2\n",
        "        num = int(len(valid_dataset.dataset) * r)\n",
        "        row.append(\"{} sec\".format(t[num]) if len(t) > num else \"-\")\n",
        "    text.append(row)\n",
        "\n",
        "plt.table(cellText=text, colLabels=colLabels,\n",
        "               rowLabels=rowLabels, loc=\"center\")"
      ],
      "execution_count": 0,
      "outputs": []
    },
    {
      "cell_type": "markdown",
      "metadata": {
        "id": "95XYnQQlNtMH",
        "colab_type": "text"
      },
      "source": [
        "* Show the nodes exploration needed to solve"
      ]
    },
    {
      "cell_type": "code",
      "metadata": {
        "id": "q6Ik8J8MAcbv",
        "colab_type": "code",
        "colab": {}
      },
      "source": [
        "#@markdown ### Visualization Parameters\n",
        "#@markdown |Name    |Description|\n",
        "#@markdown |:---    |:---|\n",
        "#@markdown |`width` |The width of the matplotlib plot|\n",
        "#@markdown |`height`|The height of the matplotlib plot|\n",
        "width = 12 #@param {type: \"slider\", min: 1, max: 48, step: 1}\n",
        "height = 4 #@param {type: \"slider\", min: 1, max: 48, step: 1}\n"
      ],
      "execution_count": 0,
      "outputs": []
    },
    {
      "cell_type": "code",
      "metadata": {
        "id": "TdtM61G15xJx",
        "colab_type": "code",
        "colab": {}
      },
      "source": [
        "import matplotlib.pyplot as plt\n",
        "\n",
        "plt.figure(figsize=(width, height))\n",
        "\n",
        "required_nodes = dict()\n",
        "for path in results.keys():\n",
        "    n = [r.explored_nodes for r in results[path].values() if r.is_solved]\n",
        "    n.sort()\n",
        "    required_nodes[path] = n\n",
        "\n",
        "plt.axis(\"tight\")\n",
        "plt.axis(\"off\")\n",
        "plt.title(\"Explored Nodes\")\n",
        "\n",
        "rowLabels = list(results.keys())\n",
        "colLabels = [\"20%\", \"40%\", \"60%\", \"80%\", \"100%\"]\n",
        "\n",
        "text = []\n",
        "for path in rowLabels:\n",
        "    r = 0.0\n",
        "    t = required_nodes[path]\n",
        "    row = []\n",
        "    for i in range(5):\n",
        "        r += 0.2\n",
        "        num = int(len(valid_dataset.dataset) * r)\n",
        "        row.append(\"{}\".format(t[num]) if len(t) > num else \"-\")\n",
        "    text.append(row)\n",
        "\n",
        "plt.table(cellText=text, colLabels=colLabels,\n",
        "               rowLabels=rowLabels, loc=\"center\")"
      ],
      "execution_count": 0,
      "outputs": []
    },
    {
      "cell_type": "markdown",
      "metadata": {
        "id": "dGDkEoWPSH4k",
        "colab_type": "text"
      },
      "source": [
        "* Show the detail of the specified entry"
      ]
    },
    {
      "cell_type": "code",
      "metadata": {
        "colab_type": "code",
        "id": "Zw7fHLT9SGcE",
        "colab": {}
      },
      "source": [
        "#@markdown ### Visualization Parameters\n",
        "#@markdown |Name    |Description|\n",
        "#@markdown |:---    |:---|\n",
        "#@markdown |`width` |The width of the matplotlib plot|\n",
        "#@markdown |`height`|The height of the matplotlib plot|\n",
        "#@markdown |`index`  |The index of the specified entry|\n",
        "width = 36 #@param {type: \"slider\", min: 1, max: 48, step: 1}\n",
        "height = 4 #@param {type: \"slider\", min: 1, max: 48, step: 1}\n",
        "index = 0 #@param {type: \"number\"}\n"
      ],
      "execution_count": 0,
      "outputs": []
    },
    {
      "cell_type": "code",
      "metadata": {
        "id": "uuZSF82T9zCg",
        "colab_type": "code",
        "colab": {}
      },
      "source": [
        "from matplotlib import colors\n",
        "import matplotlib.cm as cm\n",
        "import matplotlib.pyplot as plt\n",
        "\n",
        "m = cm.ScalarMappable(norm=colors.Normalize(vmin=0, vmax=1), cmap=cm.Greens)\n",
        "\n",
        "plt.figure(figsize=(width, height))\n",
        "    \n",
        "entry = valid_dataset.dataset[index][0]\n",
        "print(\"Valid {}\".format(index))\n",
        "print(\"Examples\")\n",
        "for i, example in enumerate(entry.examples):\n",
        "    print(\"Example {}\".format(i))\n",
        "    for j, input in enumerate(example.inputs):\n",
        "        print(\"  input {}: {}\".format(j, input))\n",
        "    print(\"  output: {}\".format(example.output))\n",
        "print()\n",
        "\n",
        "print(\"Source Code\")\n",
        "print(\"Ground Truth\")\n",
        "print(entry.source_code)\n",
        "print()\n",
        "for path, result in results.items():\n",
        "    print(path)\n",
        "    print(result[index].solution)\n",
        "    print()\n",
        "\n",
        "plt.title(\"Attributes\")\n",
        "labels = [\"Ground Truth\"]\n",
        "ticks = [0.5]\n",
        "data = np.ones(len(entry.attribute))\n",
        "colors = []\n",
        "for _, v in entry.attribute.items():\n",
        "    colors.append(m.to_rgba(1 if v else 0))\n",
        "xs = np.arange(len(entry.attribute))\n",
        "plt.bar(xs, data, width=0.9, bottom=np.zeros(1),\n",
        "        color=colors, tick_label=list(entry.attribute.keys()))\n",
        "\n",
        "for i, (path, result) in enumerate(results.items()):\n",
        "    labels.append(path)\n",
        "    ticks.append(i + 1.5)\n",
        "    colors = []\n",
        "    for key in entry.attribute.keys():\n",
        "        colors.append(m.to_rgba(result[index].probabilities[key]))\n",
        "    plt.bar(xs, data, width=0.9, bottom=np.ones(1) * (i + 1), color=colors,\n",
        "            tick_label=list(entry.attribute.keys()))\n",
        "\n",
        "plt.yticks(ticks=ticks, labels=labels)\n"
      ],
      "execution_count": 0,
      "outputs": []
    }
  ]
}