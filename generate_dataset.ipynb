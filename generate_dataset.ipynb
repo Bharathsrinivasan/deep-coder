{
  "nbformat": 4,
  "nbformat_minor": 0,
  "metadata": {
    "colab": {
      "name": "deep-coder generate-dataset",
      "version": "0.3.2",
      "provenance": [],
      "private_outputs": true,
      "collapsed_sections": []
    },
    "kernelspec": {
      "name": "python3",
      "display_name": "Python 3"
    }
  },
  "cells": [
    {
      "cell_type": "markdown",
      "metadata": {
        "id": "yje9hqtcUQ_f",
        "colab_type": "text"
      },
      "source": [
        "### Initialization\n",
        "* Check whether the runtime is host or local.\n",
        "* Mount Google Drive when using the host runtime."
      ]
    },
    {
      "cell_type": "code",
      "metadata": {
        "id": "FwqGy_GyUQnw",
        "colab_type": "code",
        "colab": {}
      },
      "source": [
        "try:\n",
        "  from google.colab import drive\n",
        "  drive.mount('/gdrive')\n",
        "  runtime = \"host\"\n",
        "except:\n",
        "  runtime = \"local\""
      ],
      "execution_count": 0,
      "outputs": []
    },
    {
      "cell_type": "markdown",
      "metadata": {
        "id": "_S457sT6QMUr",
        "colab_type": "text"
      },
      "source": [
        "### Parameters"
      ]
    },
    {
      "cell_type": "code",
      "metadata": {
        "id": "2LYvG4iCQUwh",
        "colab_type": "code",
        "colab": {}
      },
      "source": [
        "#@title Parameters\n",
        "#@markdown |Name            |Description|\n",
        "#@markdown |:---            |:---|\n",
        "#@markdown |`seed`|The random seed|\n",
        "seed = 3984 #@param {type: \"number\"}\n",
        "\n",
        "#@markdown ### `deep-coder` Repositories\n",
        "#@markdown |Name            |Description|\n",
        "#@markdown |:---            |:---|\n",
        "#@markdown |`repository_url`|The URL of `deep-coder` git repository (enabled only in the host runtime)|\n",
        "#@markdown |`branch_name`   |The branch name (enabled only in the host runtime)|\n",
        "repository_url = \"https://github.com/HiroakiMikami/deep-coder\" #@param {type: \"string\"}\n",
        "branch_name = \"master\" #@param {type: \"string\"}\n",
        "\n",
        "#@markdown ### Dataset Configurations\n",
        "#@markdown |Name          |Description|\n",
        "#@markdown |:---          |:---|\n",
        "#@markdown |`num_dataset` |The total number of programs in the dataset. If it is -1, the program will enumerate all valid source code.|\n",
        "#@markdown |`num_valid`   |The number of programs used for validation.|\n",
        "#@markdown |`value_range` |The largest absolute value used in the dataset.|\n",
        "#@markdown |`max_list_length` |The maximum length of lists used in the dataset.|\n",
        "#@markdown |`num_examples`|The number of I/O examples per program|\n",
        "#@markdown |`min_length`  |The minimum length of the program body|\n",
        "#@markdown |`max_length`  |The maximum length of the program body|\n",
        "#@markdown |`num_examples_for_pruning`|The number of examples used to prune the identical programs.|\n",
        "num_dataset = -1 #@param {type: \"number\"}\n",
        "num_valid = 10 #@param {type: \"number\"}\n",
        "value_range = 256 #@param {type: \"number\"}\n",
        "max_list_length = 20 #@param {type: \"number\"}\n",
        "num_examples = 5 #@param {type: \"number\"}\n",
        "min_length = 1 #@param {type: \"number\"}\n",
        "max_length = 2 #@param {type: \"number\"}\n",
        "num_examples_for_pruning = 100 #@param {type: \"number\"}\n",
        "\n",
        "#@markdown ### Filepath\n",
        "#@markdown |Name                   |Description|\n",
        "#@markdown |:---                   |:---|\n",
        "#@markdown |`destination_dir_path` |The directory of the directory that will contain the dataset.|\n",
        "destination_dir_path = \"dataset/\" #@param {type: \"string\"}\n"
      ],
      "execution_count": 0,
      "outputs": []
    },
    {
      "cell_type": "markdown",
      "metadata": {
        "id": "_BembldCdOO1",
        "colab_type": "text"
      },
      "source": [
        "### Setup\n",
        "* Fix the random seed\n",
        "* Download the codebase (when using the host runtime)\n",
        "  1. Clone git repository and move to the specified branch\n",
        "  2. Initialize submodule\n",
        "  3. Build the `search` tool\n",
        "  4. Install chainer and cupy\n",
        "* Remove the temporary file"
      ]
    },
    {
      "cell_type": "code",
      "metadata": {
        "id": "GwjlAkY1fR5j",
        "colab_type": "code",
        "colab": {}
      },
      "source": [
        "import numpy as np\n",
        "import random\n",
        "\n",
        "SEED_MAX = 2**32 - 1\n",
        "\n",
        "root_rng = np.random.RandomState(seed)\n",
        "random.seed(root_rng.randint(SEED_MAX))\n",
        "np.random.seed(root_rng.randint(SEED_MAX))"
      ],
      "execution_count": 0,
      "outputs": []
    },
    {
      "cell_type": "code",
      "metadata": {
        "id": "FIZJmuz8QFn_",
        "colab_type": "code",
        "colab": {}
      },
      "source": [
        "if runtime == \"host\":\n",
        "  %cd /content\n",
        "  !rm -rf deep-coder\n",
        "  ![ ! -e deep-coder ] && git clone $repository_url deep-coder\n",
        "  %cd deep-coder\n",
        "  !git checkout origin/$branch_name\n",
        "  !git submodule init\n",
        "  !git submodule update\n",
        "  !make -C DeepCoder_Utils/enumerative-search -j `nproc`\n",
        "  !curl https://colab.chainer.org/install | sh -\n",
        "  !pip install tqdm"
      ],
      "execution_count": 0,
      "outputs": []
    },
    {
      "cell_type": "code",
      "metadata": {
        "colab_type": "code",
        "id": "alNTHkTVFokT",
        "colab": {}
      },
      "source": [
        "!rm -rf ./dataset.pickle"
      ],
      "execution_count": 0,
      "outputs": []
    },
    {
      "cell_type": "markdown",
      "metadata": {
        "id": "Oz7sdzxUi70b",
        "colab_type": "text"
      },
      "source": [
        "### Generate Dataset\n",
        "* Generate the total dataset\n",
        "* Divide the dataset into `train` and `valid`."
      ]
    },
    {
      "cell_type": "code",
      "metadata": {
        "id": "h7kdglcUjDTQ",
        "colab_type": "code",
        "colab": {}
      },
      "source": [
        "import numpy as np\n",
        "import os\n",
        "from tqdm import tqdm_notebook as tqdm\n",
        "\n",
        "from src.dsl import to_function, Program\n",
        "from src.deepcoder_utils import generate_io_samples\n",
        "from src.generate_dataset import generate_dataset, DatasetSpec, EquivalenceCheckingSpec, IteratorDecorator\n",
        "from src.program_simplifier import remove_redundant_variables, remove_redundant_expressions, remove_dependency_between_variables\n",
        "\n",
        "LINQ, _ = generate_io_samples.get_language(value_range)\n",
        "LINQ = [f for f in LINQ if not \"IDT\" in f.src]\n",
        "\n",
        "MINIMUM = to_function([f for f in LINQ if f.src == \"MINIMUM\"][0])\n",
        "MAXIMUM = to_function([f for f in LINQ if f.src == \"MAXIMUM\"][0])\n",
        "\n",
        "\n",
        "def simplify(program):\n",
        "    program = remove_redundant_expressions(program)\n",
        "    program = remove_redundant_variables(program)\n",
        "    program = remove_dependency_between_variables(program, MINIMUM, MAXIMUM)\n",
        "    return program\n",
        "\n",
        "\n",
        "# TODO: tqdm_notebook does not work in a local runtime\n",
        "program_iterator = lambda iterator: tqdm(iterator, desc=\"Program Generation\")\n",
        "entry_iterator = lambda iterator: tqdm(iterator, desc=\"Prune Entries\")\n",
        "decorator = IteratorDecorator(program_iterator, entry_iterator)\n",
        "\n",
        "generate_dataset(LINQ,\n",
        "             DatasetSpec(value_range, max_list_length,\n",
        "                         num_examples, min_length, max_length),\n",
        "             EquivalenceCheckingSpec(0, num_examples_for_pruning, np.random.RandomState(\n",
        "                 root_rng.randint(SEED_MAX))),\n",
        "             \"./dataset.pickle\", num_dataset if num_dataset > 0 else None,\n",
        "             simplify=simplify, decorator=decorator)\n"
      ],
      "execution_count": 0,
      "outputs": []
    },
    {
      "cell_type": "code",
      "metadata": {
        "id": "GUwjz07KZPld",
        "colab_type": "code",
        "colab": {}
      },
      "source": [
        "import pickle\n",
        "import chainer as ch\n",
        "from src.dataset import Dataset\n",
        "\n",
        "if not os.path.exists(destination_dir_path):\n",
        "    os.makedirs(destination_dir_path)\n",
        "\n",
        "with open(\"./dataset.pickle\", \"rb\") as f:\n",
        "    dataset: Dataset = pickle.load(f)\n",
        "\n",
        "num_valid = num_valid\n",
        "num_train = len(dataset.dataset) - num_valid\n",
        "\n",
        "train, valid = ch.datasets.split_dataset_random(\n",
        "    dataset.dataset, num_train, seed=root_rng.randint(SEED_MAX))\n",
        "\n",
        "with open(os.path.join(destination_dir_path, \"train.pickle\"), \"wb\") as f:\n",
        "    pickle.dump(Dataset(ch.datasets.TupleDataset(\n",
        "        list([d[0] for d in train])), dataset.metadata), f)\n",
        "with open(os.path.join(destination_dir_path, \"valid.pickle\"), \"wb\") as f:\n",
        "    pickle.dump(Dataset(ch.datasets.TupleDataset(\n",
        "        list([d[0] for d in valid])), dataset.metadata), f)\n"
      ],
      "execution_count": 0,
      "outputs": []
    },
    {
      "cell_type": "markdown",
      "metadata": {
        "id": "YWufhkoaw9Bq",
        "colab_type": "text"
      },
      "source": [
        "### Teardown\n",
        "* Remove the temporary file"
      ]
    },
    {
      "cell_type": "code",
      "metadata": {
        "id": "D-WYlqxVkO5i",
        "colab_type": "code",
        "colab": {}
      },
      "source": [
        "!rm dataset.pickle"
      ],
      "execution_count": 0,
      "outputs": []
    }
  ]
}